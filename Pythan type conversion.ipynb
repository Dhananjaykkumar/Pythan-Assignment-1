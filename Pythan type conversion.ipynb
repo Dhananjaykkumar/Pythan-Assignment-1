{
 "cells": [
  {
   "cell_type": "code",
   "execution_count": 1,
   "id": "83276ddc-9c0f-431e-b0ab-52f51f69a5d3",
   "metadata": {},
   "outputs": [],
   "source": [
    "#convert an integer to a floating - point number"
   ]
  },
  {
   "cell_type": "code",
   "execution_count": 2,
   "id": "b357afde-aa89-4bd9-ab82-e2abeb3d1093",
   "metadata": {},
   "outputs": [],
   "source": [
    "a = 5 "
   ]
  },
  {
   "cell_type": "code",
   "execution_count": 3,
   "id": "79e11b32-e88f-48c7-b8af-62f3404510bb",
   "metadata": {},
   "outputs": [
    {
     "name": "stdout",
     "output_type": "stream",
     "text": [
      "input\n",
      "5\n",
      "<class 'int'>\n"
     ]
    }
   ],
   "source": [
    "print('input',a,type(a),sep='\\n')"
   ]
  },
  {
   "cell_type": "code",
   "execution_count": 4,
   "id": "657409ca-7244-4ca8-9bc8-d2795c8ec592",
   "metadata": {},
   "outputs": [],
   "source": [
    "output = float(a)"
   ]
  },
  {
   "cell_type": "code",
   "execution_count": 5,
   "id": "c10d7c8b-24d7-4593-aa8c-0037ca5fb053",
   "metadata": {},
   "outputs": [
    {
     "name": "stdout",
     "output_type": "stream",
     "text": [
      "\n",
      "Output\n",
      "5.0\n",
      "<class 'float'>\n"
     ]
    }
   ],
   "source": [
    "print('\\nOutput',output,type(output),sep='\\n')"
   ]
  },
  {
   "cell_type": "code",
   "execution_count": 6,
   "id": "afc38bbe-d469-4de9-a9fe-8201a0fa42df",
   "metadata": {},
   "outputs": [],
   "source": [
    "#Convert a float to an integer"
   ]
  },
  {
   "cell_type": "code",
   "execution_count": 7,
   "id": "cdfbde80-ea1a-4bfe-a10e-ec9d6c29f3ef",
   "metadata": {},
   "outputs": [],
   "source": [
    "b = 7.5"
   ]
  },
  {
   "cell_type": "code",
   "execution_count": 8,
   "id": "f5c5abe9-653c-4c8b-874b-8a176e17120b",
   "metadata": {},
   "outputs": [
    {
     "name": "stdout",
     "output_type": "stream",
     "text": [
      "Type Before conversion: <class 'float'>\n",
      "Value BeforeConversion is : 7.5\n"
     ]
    }
   ],
   "source": [
    "print(\"Type Before conversion:\",type(b))\n",
    "print(\"Value BeforeConversion is :\",b)"
   ]
  },
  {
   "cell_type": "code",
   "execution_count": 9,
   "id": "b4c12b6b-968e-4acb-8a5a-75a46d9441e8",
   "metadata": {},
   "outputs": [],
   "source": [
    "b = int(b)"
   ]
  },
  {
   "cell_type": "code",
   "execution_count": 10,
   "id": "8246cd0b-480b-4bbf-b7cb-b59e80bd319b",
   "metadata": {},
   "outputs": [
    {
     "name": "stdout",
     "output_type": "stream",
     "text": [
      "Type after conversion : <class 'int'>\n",
      "Converted integer is: 7\n"
     ]
    }
   ],
   "source": [
    "print(\"Type after conversion :\",type(b))\n",
    "print(\"Converted integer is:\",b)"
   ]
  },
  {
   "cell_type": "code",
   "execution_count": 11,
   "id": "b595dbb1-c5b5-47b3-afe5-107ce1a0ee2e",
   "metadata": {},
   "outputs": [],
   "source": [
    "#Convert an integer to a string"
   ]
  },
  {
   "cell_type": "code",
   "execution_count": 12,
   "id": "3b6a0b50-ddbe-4336-9b52-a8180562042c",
   "metadata": {},
   "outputs": [],
   "source": [
    "num = 25"
   ]
  },
  {
   "cell_type": "code",
   "execution_count": 13,
   "id": "68756896-cd75-44ce-a8be-94f292e7c912",
   "metadata": {},
   "outputs": [
    {
     "name": "stdout",
     "output_type": "stream",
     "text": [
      "Type of variable before converison: <class 'int'>\n"
     ]
    }
   ],
   "source": [
    "print(\"Type of variable before converison:\",type(num))"
   ]
  },
  {
   "cell_type": "code",
   "execution_count": 14,
   "id": "b7c97959-5bcf-4f45-a454-3d295918f7ec",
   "metadata": {},
   "outputs": [],
   "source": [
    "Converted_num = str(num)"
   ]
  },
  {
   "cell_type": "code",
   "execution_count": 15,
   "id": "398ab6d6-092a-48be-91ac-daf32cbfca39",
   "metadata": {},
   "outputs": [
    {
     "name": "stdout",
     "output_type": "stream",
     "text": [
      "Type After Conversion: <class 'str'>\n"
     ]
    }
   ],
   "source": [
    "print(\"Type After Conversion:\",type(Converted_num))"
   ]
  },
  {
   "cell_type": "code",
   "execution_count": 16,
   "id": "62a7cf08-dc7d-4fad-89b3-75218a2c749a",
   "metadata": {},
   "outputs": [],
   "source": [
    "#Convert a list to a tuple."
   ]
  },
  {
   "cell_type": "code",
   "execution_count": 17,
   "id": "c410fcc4-f2e9-44c9-9a2a-1362e1709bbf",
   "metadata": {},
   "outputs": [],
   "source": [
    "def convert(list):\n",
    "    return tuple(list)"
   ]
  },
  {
   "cell_type": "code",
   "execution_count": 18,
   "id": "3c4b0a0f-b304-40e8-b380-2ff4561fa321",
   "metadata": {},
   "outputs": [],
   "source": [
    "list = [1 , 2 , 3 , 4 ]\n"
   ]
  },
  {
   "cell_type": "code",
   "execution_count": 19,
   "id": "073b7a04-9c1d-4229-a856-3e6d448b31c8",
   "metadata": {},
   "outputs": [
    {
     "name": "stdout",
     "output_type": "stream",
     "text": [
      "(1, 2, 3, 4)\n"
     ]
    }
   ],
   "source": [
    "print(convert(list))"
   ]
  },
  {
   "cell_type": "code",
   "execution_count": 20,
   "id": "17ce7e92-8547-4310-b502-3df741b6d166",
   "metadata": {},
   "outputs": [],
   "source": [
    "#convert a tuple to a list"
   ]
  },
  {
   "cell_type": "code",
   "execution_count": 21,
   "id": "08fcce3a-e966-419a-b4b5-22e63fbb1936",
   "metadata": {},
   "outputs": [],
   "source": [
    "GFG_tuple = (1 , 2 , 3 )\n",
    "GFG_list = []"
   ]
  },
  {
   "cell_type": "code",
   "execution_count": 22,
   "id": "623d55df-27fb-4ee7-bd03-870c27b98d4a",
   "metadata": {},
   "outputs": [],
   "source": [
    "for i in GFG_tuple:\n",
    "    GFG_list.append(i)"
   ]
  },
  {
   "cell_type": "code",
   "execution_count": 23,
   "id": "e8ad7ae8-aca8-4e4c-8b83-fb6a4fb4f0d2",
   "metadata": {},
   "outputs": [
    {
     "name": "stdout",
     "output_type": "stream",
     "text": [
      "[1, 2, 3]\n"
     ]
    }
   ],
   "source": [
    "print(GFG_list)"
   ]
  },
  {
   "cell_type": "code",
   "execution_count": 24,
   "id": "18fe2071-2b7c-4a62-8871-8e3eae00a076",
   "metadata": {},
   "outputs": [],
   "source": [
    "#Convert a decimal number to binary"
   ]
  },
  {
   "cell_type": "code",
   "execution_count": 25,
   "id": "40f12c4f-a60f-4393-88bf-461f92251ef6",
   "metadata": {},
   "outputs": [
    {
     "name": "stdout",
     "output_type": "stream",
     "text": [
      "1000\n",
      "1110011\n",
      "111\n"
     ]
    }
   ],
   "source": [
    "def decimalToBinary(n): \n",
    "    return bin(n).replace(\"0b\", \"\") \n",
    "   \n",
    "# Driver code \n",
    "if __name__ == '__main__': \n",
    "    print(decimalToBinary(8)) \n",
    "    print(decimalToBinary(115)) \n",
    "    print(decimalToBinary(7)) \n"
   ]
  },
  {
   "cell_type": "code",
   "execution_count": 29,
   "id": "0cc88b1b-a86d-4d73-93cb-fc28ce541740",
   "metadata": {},
   "outputs": [
    {
     "name": "stdout",
     "output_type": "stream",
     "text": [
      "True\n"
     ]
    }
   ],
   "source": [
    "string = \"GeeksforGeeks\"\n",
    "bool_value = bool(string)\n",
    "\n",
    "print(bool_value)\n",
    "\n"
   ]
  },
  {
   "cell_type": "code",
   "execution_count": 30,
   "id": "79bc09a1-8e6b-45bb-9b22-790aac99fde1",
   "metadata": {},
   "outputs": [
    {
     "data": {
      "text/plain": [
       "False"
      ]
     },
     "execution_count": 30,
     "metadata": {},
     "output_type": "execute_result"
    }
   ],
   "source": [
    "eval(\"False\")\n"
   ]
  },
  {
   "cell_type": "code",
   "execution_count": null,
   "id": "ced5f7e3-3161-4657-90d3-f89e1e9b7dc3",
   "metadata": {},
   "outputs": [],
   "source": []
  }
 ],
 "metadata": {
  "kernelspec": {
   "display_name": "Python 3 (ipykernel)",
   "language": "python",
   "name": "python3"
  },
  "language_info": {
   "codemirror_mode": {
    "name": "ipython",
    "version": 3
   },
   "file_extension": ".py",
   "mimetype": "text/x-python",
   "name": "python",
   "nbconvert_exporter": "python",
   "pygments_lexer": "ipython3",
   "version": "3.10.8"
  }
 },
 "nbformat": 4,
 "nbformat_minor": 5
}
